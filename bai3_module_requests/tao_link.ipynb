{
 "cells": [
  {
   "cell_type": "markdown",
   "id": "106f3336",
   "metadata": {},
   "source": [
    "# Các link để test\n",
    "\n",
    "https://ophim17.cc/phim/to-chat-anh-hung-phan-1\n",
    "\n",
    "\n",
    "print(ophim_response.text)\n",
    "\n",
    "link_api = 'https://ophim1.com/phim/to-chat-anh-hung-phan-1'\n",
    "\n",
    "link_api = 'https://ophim17.cc/phim/huong-vi-cua-bien-phan-2'\n",
    "\n",
    "\n",
    "```text\n",
    "# print(link_api[23:])\n",
    "#EXTM3U\n",
    "#EXT-X-STREAM-INF:PROGRAM-ID=1,BANDWIDTH=800000,RESOLUTION=1920x1080\n",
    "# 3000k/hls/mixed.m3u8\n",
    "#https://vip.opstream16.com/20250519/42992_c5475a75/index/hls/mixed.m3u8\n",
    "#https://vip.opstream16.com/3000k/hls/mixed.m3u8\n",
    "#https://vip.opstream16.com/20250519/42992_c5475a75/3000k/hls/mixed.m3u8\n",
    "\n",
    "```"
   ]
  },
  {
   "cell_type": "code",
   "execution_count": 2,
   "id": "14da0f30",
   "metadata": {},
   "outputs": [
    {
     "name": "stdout",
     "output_type": "stream",
     "text": [
      "hãy đưa link của phim mà bạn muốn xem:\n"
     ]
    }
   ],
   "source": [
    "import requests\n",
    "import json\n",
    "print(\"hãy đưa link của phim mà bạn muốn xem:\")\n",
    "a = input(\"link của bạn là:\")"
   ]
  },
  {
   "cell_type": "code",
   "execution_count": 5,
   "id": "906556fb",
   "metadata": {},
   "outputs": [
    {
     "name": "stdout",
     "output_type": "stream",
     "text": [
      "api la https://ophim1.com/phim/\n",
      "tenphim la to-chat-anh-hung-phan-1\n"
     ]
    }
   ],
   "source": [
    "link_api = a\n",
    "\n",
    "s = a\n",
    "k = '/'\n",
    "v = 0\n",
    "\n",
    "res = -1\n",
    "for i in range(len(s)):\n",
    "    if s[i] == k:\n",
    "        res = i+1\n",
    "        v +=1\n",
    "        if v == 4:\n",
    "         break\n",
    "\n",
    "# print(res)\n",
    "\n",
    "# print(link_api[res:])\n",
    "\n",
    "tenphim = link_api[res:]\n",
    "\n",
    "api = 'https://ophim1.com/phim/'\n",
    "# d = 'https://ophim1.com/phim/${slug}'\n",
    "# k = '/'\n",
    "# b = 0\n",
    "\n",
    "# re = -1\n",
    "# for i in range(len(d)):\n",
    "#     if d[i] == k:\n",
    "#         re = i+1\n",
    "#         b +=1\n",
    "#         if b == 4:\n",
    "#          break\n",
    "# print(api[0:re])\n",
    "\n",
    "print(\"api la \" + api)\n",
    "print(\"tenphim la \" + tenphim)\n",
    "linkphim = api"
   ]
  },
  {
   "cell_type": "code",
   "execution_count": 6,
   "id": "06404eed",
   "metadata": {},
   "outputs": [
    {
     "name": "stdout",
     "output_type": "stream",
     "text": [
      "linkload https://ophim1.com/phim/to-chat-anh-hung-phan-1\n"
     ]
    }
   ],
   "source": [
    "linkload = linkphim + tenphim\n",
    "print(\"linkload \" + linkload)"
   ]
  },
  {
   "cell_type": "code",
   "execution_count": 9,
   "id": "0a4d3ac8",
   "metadata": {},
   "outputs": [
    {
     "name": "stdout",
     "output_type": "stream",
     "text": [
      "movie_test là Hoàn Tất (11/11)\n"
     ]
    }
   ],
   "source": [
    "ophim_response = requests.get(linkload)\n",
    "# print(ophim_response.text)\n",
    "# print(\"hãy đưa link của phim mà bạn muốn xem:\")\n",
    "ophim_data = json.loads(ophim_response.text)\n",
    "movie_test = ophim_data[\"movie\"][\"episode_current\"]\n",
    "print(\"movie_test là \" + movie_test)"
   ]
  },
  {
   "cell_type": "code",
   "execution_count": 10,
   "id": "a189daff",
   "metadata": {},
   "outputs": [],
   "source": [
    "moonbeo = input(\"bạn muốn xem tập:\")"
   ]
  },
  {
   "cell_type": "code",
   "execution_count": null,
   "id": "0b062a85",
   "metadata": {},
   "outputs": [],
   "source": [
    "movie_index_link = ophim_data[\"episodes\"][0][\"server_data\"][2][\"link_m3u8\"]\n",
    "\n",
    "movie_index_reponse = requests.get(movie_index_link)"
   ]
  }
 ],
 "metadata": {
  "kernelspec": {
   "display_name": "Python 3",
   "language": "python",
   "name": "python3"
  },
  "language_info": {
   "codemirror_mode": {
    "name": "ipython",
    "version": 3
   },
   "file_extension": ".py",
   "mimetype": "text/x-python",
   "name": "python",
   "nbconvert_exporter": "python",
   "pygments_lexer": "ipython3",
   "version": "3.12.3"
  }
 },
 "nbformat": 4,
 "nbformat_minor": 5
}
