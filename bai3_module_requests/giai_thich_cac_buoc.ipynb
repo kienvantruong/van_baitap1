{
 "cells": [
  {
   "cell_type": "markdown",
   "id": "5aa166b6",
   "metadata": {},
   "source": [
    "nguoi xem phim sẽ có link này\n",
    "https://ophim17.cc/phim/to-chat-anh-hung-phan-1\n",
    "===> slug là `to-chat-anh-hung-phan-1`\n",
    "\n",
    "theo tài liệu API thì\n",
    "https://ophim1.com/phim/${slug}\n",
    "\n",
    "Suy ra link API của phim đó là\n",
    "https://ophim1.com/phim/to-chat-anh-hung-phan-1\n",
    "\n",
    "viet code tải link này\n",
    "https://ophim1.com/phim/to-chat-anh-hung-phan-1\n",
    "\n",
    "sẽ được json, trong đó có các tập phim link m3u8\n",
    "\n",
    "get link m3u8 sẽ được link mixed.m3u8\n",
    "\n",
    "đây là link m3u8\n",
    "https://vip.opstream16.com/20250519/42992_c5475a75/index.m3u8\n",
    "\n",
    "đây là nội dung mixed.m3u8\n",
    "# 3000k/hls/mixed.m3u8\n",
    "https://vip.opstream16.com/20250519/42992_c5475a75/`3000k/hls/mixed.m3u8`\n"
   ]
  }
 ],
 "metadata": {
  "language_info": {
   "name": "python"
  }
 },
 "nbformat": 4,
 "nbformat_minor": 5
}
