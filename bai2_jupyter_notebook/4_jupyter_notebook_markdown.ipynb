{
 "cells": [
  {
   "cell_type": "markdown",
   "id": "234ed673",
   "metadata": {},
   "source": [
    "# Các cú pháp trong Markdown"
   ]
  },
  {
   "cell_type": "markdown",
   "id": "6e372cf4",
   "metadata": {},
   "source": [
    "# đây là header 1\n",
    "## header2\n",
    "### header3\n",
    "#### header4\n",
    "##### header5\n",
    "###### header6"
   ]
  },
  {
   "cell_type": "markdown",
   "id": "55a38253",
   "metadata": {},
   "source": [
    "Strong emphasis, aka bold, with (Để nhấn mạnh chữ, hoặc tô đậm)\n",
    "\n",
    "Tiên học **lễ**, hậu học __văn__\n",
    "\n",
    "\n",
    "Strikethrough uses two tildes (gạch ngang chữ). \n",
    "\n",
    "~~Scratch this.~~\n",
    "\n",
    "Tiếng anh: Emphasis, italics, asterisks, underscores, Strikethrough\n",
    "\n",
    "\n",
    "\n",
    "\n"
   ]
  },
  {
   "cell_type": "markdown",
   "id": "2f8a9394",
   "metadata": {},
   "source": [
    "# Danh Sách\n",
    "\n",
    "1. First ordered list item\n",
    "2. Another item\n",
    "  \n",
    "* Unordered sub-list 1. \n",
    "* Unordered sub-list 2. \n",
    "\n",
    "\n",
    "### test danh sách\n",
    "\n",
    "1. Actual numbers don't matter, just that it's a number\n",
    "  1. Ordered sub-list\n",
    "4. And another item.  \n",
    "  6. Some text that should be aligned with the above item.\n",
    "    \n",
    "\n",
    "* Unordered list can use asterisks\n",
    "- Or minuses\n",
    "+ Or pluses"
   ]
  },
  {
   "cell_type": "markdown",
   "id": "0820f05e",
   "metadata": {},
   "source": [
    "# Text link\n",
    "\n",
    "[I'm an inline-style link](https://www.google.com)\n",
    "\n",
    "[I'm a reference-style link][Arbitrary case-insensitive reference text]\n",
    "\n",
    "[You can use numbers for reference-style link definitions][1]\n",
    "\n",
    "Or leave it empty and use the [link text itself]\n",
    "\n",
    "URLs and URLs in angle brackets will automatically get turned into links. \n",
    "http://www.example.com or <http://www.example.com> and sometimes \n",
    "example.com (but not on Github, for example).\n",
    "\n",
    "Some text to show that the reference links can follow later.\n",
    "\n",
    "[arbitrary case-insensitive reference text]: https://www.mozilla.org\n",
    "[1]: http://slashdot.org\n",
    "[link text itself]: http://www.reddit.com\n"
   ]
  },
  {
   "cell_type": "markdown",
   "id": "134c634b",
   "metadata": {},
   "source": [
    "# Link hình ảnh\n",
    "\n",
    "Here's our logo (hover to see the title text):\n",
    "\n",
    "Inline-style: \n",
    "![alt text](https://github.com/adam-p/markdown-here/raw/master/src/common/images/icon48.png \"Logo Title Text 1\")\n",
    "\n",
    "Reference-style: \n",
    "![alt text][logo]\n",
    "\n",
    "[logo]: https://github.com/adam-p/markdown-here/raw/master/src/common/images/icon48.png \"Logo Title Text 2\"\n",
    "\n",
    "\n"
   ]
  },
  {
   "cell_type": "markdown",
   "id": "1529385c",
   "metadata": {},
   "source": [
    "# Inline Code\n",
    "\n",
    "Inline `code` has `back-ticks around` it.\n"
   ]
  },
  {
   "cell_type": "markdown",
   "id": "96b3c0d2",
   "metadata": {},
   "source": [
    "# Table\n",
    "\n",
    "Colons can be used to align columns.\n",
    "\n",
    "| Tables        | Are           | Cool  |\n",
    "| ------------- |:-------------:| -----:|\n",
    "| col 3 is      | right-aligned | $1600 |\n",
    "| col 2 is      | centered      |   $12 |\n",
    "| zebra stripes | are neat      |    $1 |\n",
    "\n",
    "The outer pipes (|) are optional, and you don't need to make the raw Markdown line up prettily. You can also use inline Markdown.\n",
    "\n",
    "Markdown | Less | Pretty\n",
    "--- | --- | ---\n",
    "*Still* | `renders` | **nicely**\n",
    "1 | 2 | 3"
   ]
  },
  {
   "cell_type": "markdown",
   "id": "8f870ea1",
   "metadata": {},
   "source": [
    "# Quote\n",
    "\n",
    "> Blockquotes are very handy in email to emulate reply text.\n",
    "> This line is part of the same quote.\n",
    "\n",
    "Quote break.\n",
    "\n",
    "> This is a very long line that will still be quoted properly when it wraps. Oh boy let's keep writing to make sure this is long enough to actually wrap for everyone. Oh, you can *put* **Markdown** into a blockquote."
   ]
  },
  {
   "cell_type": "markdown",
   "id": "f63385ea",
   "metadata": {},
   "source": [
    "# HTML\n",
    "\n",
    "<dl>\n",
    "  <dt>Definition list</dt>\n",
    "  <dd>Is something people use sometimes.</dd>\n",
    "\n",
    "  <dt>Markdown in HTML</dt>\n",
    "  <dd>Does *not* work **very** well. Use HTML <em>tags</em>.</dd>\n",
    "</dl>"
   ]
  },
  {
   "cell_type": "markdown",
   "id": "30651f09",
   "metadata": {},
   "source": [
    "# Gạch ngang dòng\n",
    "\n",
    "Three or more...\n",
    "\n",
    "---\n",
    "\n",
    "Hyphens\n",
    "\n",
    "***\n",
    "\n",
    "Asterisks\n",
    "\n",
    "___\n",
    "\n",
    "Underscores"
   ]
  },
  {
   "cell_type": "markdown",
   "id": "68d68215",
   "metadata": {},
   "source": [
    "# Link Youtube\n",
    "\n",
    "<a href=\"http://www.youtube.com/watch?feature=player_embedded&v=my8euq9bzFQ\n",
    "\" target=\"_blank\"><img src=\"http://img.youtube.com/vi/my8euq9bzFQ/0.jpg\" \n",
    "alt=\"IMAGE ALT TEXT HERE\" width=\"240\" height=\"180\" border=\"10\" /></a>\n",
    "\n",
    "[![IMAGE ALT TEXT HERE](http://img.youtube.com/vi/my8euq9bzFQ/0.jpg)](http://www.youtube.com/watch?v=my8euq9bzFQ)"
   ]
  },
  {
   "cell_type": "markdown",
   "id": "5a332adb",
   "metadata": {},
   "source": [
    "# Công thức toán học\n",
    "\n",
    "$-b \\pm \\sqrt{b^2 - 4ac} \\over 2a$\n",
    "$x = a_0 + \\frac{1}{a_1 + \\frac{1}{a_2 + \\frac{1}{a_3 + a_4}}}$\n",
    "$\\forall x \\in X, \\quad \\exists y \\leq \\epsilon$"
   ]
  }
 ],
 "metadata": {
  "kernelspec": {
   "display_name": "Python 3",
   "language": "python",
   "name": "python3"
  },
  "language_info": {
   "codemirror_mode": {
    "name": "ipython",
    "version": 3
   },
   "file_extension": ".py",
   "mimetype": "text/x-python",
   "name": "python",
   "nbconvert_exporter": "python",
   "pygments_lexer": "ipython3",
   "version": "3.12.3"
  }
 },
 "nbformat": 4,
 "nbformat_minor": 5
}
