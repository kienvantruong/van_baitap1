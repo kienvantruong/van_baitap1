{
 "cells": [
  {
   "cell_type": "markdown",
   "id": "85e74f9f",
   "metadata": {},
   "source": [
    "# API là gì\n",
    "\n",
    "API (`Application Programming Interface`) hay `Giao diện lập trình ứng dụng`\n",
    "\n",
    "**API SOAP**: Các API này thường dùng giao thức truy cập đối tượng khá đơn giản, trong đó máy chủ và máy khách trao đổi thông tin với nhau bằng tệp XML. Tuy nhiên, đây lại là loại API được nhận định kém linh hoạt nhất nhưng lại được sử dụng rộng rãi ở những năm về trước.\n",
    "\n",
    "**API RPC**: còn được biết đến là “lệnh gọi thủ tục từ xa”. Trong đó, khi máy khách đã thực hiện xong một thủ tục hoặc một hàm trên hệ thống máy chủ, lúc này máy chủ sẽ trả kết quả về máy khách.\n",
    "\n",
    "**API Websocket**: là một bản API web được phát triển một cách hiện đại khi dùng các đối tượng JSON để thực hiện quá trình chuyển đổi thông tin, dữ liệu. Hơn thế nữa, API Websocket còn hỗ trợ tốt các hoạt động giao tiếp cả 02 chiều giữa máy chủ và máy khách. Đặc biệt hơn, máy chủ còn có thể truyền tải lệnh gọi lại cho máy khách được phép kết nối, nhờ đó nâng cao hiệu quả của ứng dụng API Websocket.\n",
    "\n",
    "**API REST**:  được xem là ứng dụng API linh hoạt và thịnh hành nhất trên nền tảng website ngày nay. Khi đó, máy khách sẽ gửi yêu cầu đến máy chủ theo hình thức dữ liệu. Sau đó, máy chủ sẽ dùng chính các dữ liệu này để làm hàm nội bộ và trả kết quả về máy khách trở lại.\n",
    "\n",
    "\n",
    "Các phương thức API sẽ là các từ mô tả hành động của API. Dưới đây là những hành động có thể xảy ra:\n",
    "\n",
    "`GET`\n",
    "\n",
    "`POST`\n",
    "\n",
    "`PUT`\n",
    "\n",
    "`DELETE`\n",
    "\n",
    "Reference: https://vietnix.vn/api-la-gi/\n",
    "\n",
    "---"
   ]
  },
  {
   "cell_type": "markdown",
   "id": "10887873",
   "metadata": {},
   "source": [
    "# Ophim API\n",
    "\n",
    "https://ophim17.cc/api-document\n",
    "\n",
    "\n",
    "Thông tin Phim & Danh sách tập phim\n",
    "\n",
    "**`[GET]`** https://ophim1.com/phim/`${slug}`\n",
    "\n",
    "Ví dụ: \n",
    "\n",
    "https://ophim1.com/phim/meo-map-mang-10-mang\n",
    "\n",
    "https://ophim.tv/phim/ngoi-truong-xac-song\n",
    "\n",
    "[GET] https://ophim1.com/phim/ngoi-truong-xac-song\n",
    "\n",
    "---"
   ]
  },
  {
   "cell_type": "markdown",
   "id": "e3f66275",
   "metadata": {},
   "source": [
    "# Khai báo các gói package, module cần sữ dụng\n",
    "\n",
    "```python\n",
    "import [tên module, gói]\n",
    "```\n",
    "\n",
    "Tải module, gói về\n",
    "```bash\n",
    "pip install [tên module, gói]\n",
    "\n",
    "```\n",
    "\n",
    "nếu có nhiều module, gói thì có thể tạo 1 file .txt để lưu\n",
    "\n",
    "```bash\n",
    "pip install -r requirement.txt\n",
    "```\n"
   ]
  },
  {
   "cell_type": "code",
   "execution_count": 2,
   "id": "6b0998a4",
   "metadata": {},
   "outputs": [],
   "source": [
    "import requests\n",
    "import json"
   ]
  },
  {
   "cell_type": "markdown",
   "id": "2f26ed3e",
   "metadata": {},
   "source": [
    "# Python location\n",
    "\n",
    "```bash\n",
    "PS C:\\Users\\Gamer\\Downloads\\OPhimDownload> (Get-Command python).Path\n",
    "C:\\Users\\Gamer\\AppData\\Local\\Programs\\Python\\Python312\\python.exe\n",
    "```\n",
    "\n",
    "# Python Module location\n",
    "\n",
    "```bash\n",
    "PS C:\\Users\\Gamer\\Downloads\\OPhimDownload> pip install requests\n",
    "Collecting requests\n",
    "  Using cached requests-2.32.3-py3-none-any.whl.metadata (4.6 kB)\n",
    "Requirement already satisfied: charset-normalizer<4,>=2 in c:\\users\\gamer\\appdata\\local\\programs\\python\\python312\\lib\\site-packages (from requests) (3.4.2)\n",
    "Requirement already satisfied: idna<4,>=2.5 in c:\\users\\gamer\\appdata\\local\\programs\\python\\python312\\lib\\site-packages (from requests) (3.10)   \n",
    "Requirement already satisfied: urllib3<3,>=1.21.1 in c:\\users\\gamer\\appdata\\local\\programs\\python\\python312\\lib\\site-packages (from requests) (2.4.0)\n",
    "Requirement already satisfied: certifi>=2017.4.17 in c:\\users\\gamer\\appdata\\local\\programs\\python\\python312\\lib\\site-packages (from requests) (2025.4.26)\n",
    "Using cached requests-2.32.3-py3-none-any.whl (64 kB)\n",
    "Installing collected packages: requests\n",
    "Successfully installed requests-2.32.3\n",
    "```\n",
    "\n",
    "```\n",
    "C:\\Users\\Gamer\\AppData\\Local\\Programs\\Python\\Python312\\Lib\\site-packages\\requests\n",
    "C:\\Users\\Gamer\\AppData\\Local\\Programs\\Python\\Python312\\Lib\\site-packages\\requests\\api.py\n",
    "```"
   ]
  },
  {
   "cell_type": "markdown",
   "id": "1ac75d58",
   "metadata": {},
   "source": [
    "# Gọi API Ophim"
   ]
  },
  {
   "cell_type": "code",
   "execution_count": 3,
   "id": "5fd307fe",
   "metadata": {},
   "outputs": [
    {
     "name": "stdout",
     "output_type": "stream",
     "text": [
      "<!DOCTYPE html><html lang=\"vi\"><head><link rel=\"shortcut icon\" href=\"/icon_ophim.png\" type=\"image/png\"/><script>try {\n",
      "                if (localStorage.theme === 'dark' || (!('theme' in localStorage) && window.matchMedia('(prefers-color-scheme: dark)').matches)) {\n",
      "                  document.documentElement.classList.add('dark')\n",
      "                } else {\n",
      "                  document.documentElement.classList.remove('dark')\n",
      "                }\n",
      "              } catch (_) {}</script><script>!function(){try{var d=document.documentElement.classList;d.remove('light','dark');var e=localStorage.getItem(\"theme\");if(e){d.add(e)}else{d.add('dark');}}catch(t){}}();</script><title>Tố Chất Anh Hùng (Phần 1)-Hero Inside (Season 1) (2023) [HD-Thuyết Minh]</title><meta name=\"viewport\" content=\"initial-scale=1.0, width=device-width\"/><meta charSet=\"utf-8\"/><meta name=\"revisit-after\" content=\"1 days\"/><meta name=\"ROBOTS\" content=\"index,follow,noodp\"/><meta name=\"googlebot\" content=\"index,follow\"/><meta name=\"BingBOT\" content=\"index,follow\"/><meta name=\"yahooBOT\" content=\"index,follow\"/><meta name=\"slurp\" content=\"index,follow\"/><meta name=\"msnbot\" content=\"index,follow\"/><meta http-equiv=\"content-language\" content=\"vi\"/><meta name=\"description\" content=\"Các anh hùng có thể bước ra khỏi truyện tranh khi được triệu hồi trong trò chơi hành động phiêu lưu hài hước...\"/><meta name=\"keywords\" content=\"\"/><meta name=\"author\" content=\"OPhim8.CC\"/><meta name=\"twitter:card\" content=\"summary\"/><meta name=\"twitter:title\" content=\"Tố Chất Anh Hùng (Phần 1)-Hero Inside (Season 1) (2023) [HD-Thuyết Minh]\"/><meta name=\"twitter:description\" content=\"Các anh hùng có thể bước ra khỏi truyện tranh khi được triệu hồi trong trò chơi hành động phiêu lưu hài hước...\"/><meta name=\"twitter:image\" content=\"https://img.ophim.live/uploads/movies/to-chat-anh-hung-phan-1-thumb.jpg\"/><meta property=\"og:title\" content=\"Tố Chất Anh Hùng (Phần 1)-Hero Inside (Season 1) (2023) [HD-Thuyết Minh]\"/><meta property=\"og:description\" content=\"Các anh hùng có thể bước ra khỏi truyện tranh khi được triệu hồi trong trò chơi hành động phiêu lưu hài hước...\"/><meta property=\"og:image\" content=\"https://img.ophim.live/uploads/movies/to-chat-anh-hung-phan-1-thumb.jpg\" alt=\"Tố Chất Anh Hùng (Phần 1)-Hero Inside (Season 1) (2023) [HD-Thuyết Minh]\"/><meta property=\"og:type\" content=\"video.movie\"/><meta property=\"og:site_name\" content=\"OPhim8.CC\"/><meta property=\"og:url\" content=\"https://ophim16.cc/phim/to-chat-anh-hung-phan-1\"/><meta property=\"og:locale\" content=\"vi_VN\"/><meta property=\"og:updated_time\" content=\"1747672281000\"/><meta itemProp=\"name\" content=\"Các anh hùng có thể bước ra khỏi truyện tranh khi được triệu hồi trong trò chơi hành động phiêu lưu hài hước...\"/><meta itemProp=\"description\" content=\"Các anh hùng có thể bước ra khỏi truyện tranh khi được triệu hồi trong trò chơi hành động phiêu lưu hài hước...\"/><meta name=\"image\" content=\"https://img.ophim.live/uploads/movies/to-chat-anh-hung-phan-1-thumb.jpg\"/><link rel=\"canonical\" href=\"https://ophim16.cc/phim/to-chat-anh-hung-phan-1\"/><link rel=\"alternate\" href=\"https://ophim16.cc/phim/to-chat-anh-hung-phan-1\" hrefLang=\"vi-vn\"/><meta property=\"fb:admins\" content=\"\"/><meta property=\"fb:app_id\" content=\"\"/><script type=\"application/ld+json\">{\"@context\":\"https://schema.org\",\"@type\":\"WebSite\",\"url\":\"https://ophim16.cc\",\"name\":\"OPhim8.CC\",\"alternateName\":\"OPhim\",\"potentialAction\":{\"@type\":\"SearchAction\",\"target\":\"https://ophim16.cc/tim-kiem/?keyword={keyword}\",\"query-input\":\"required name=keyword\"}}</script><link rel=\"preload\" as=\"image\" imagesrcset=\"/_next/image?url=https%3A%2F%2Fimg.ophim.live%2Fuploads%2Fmovies%2Fto-chat-anh-hung-phan-1-thumb.jpg&amp;w=16&amp;q=75 16w, /_next/image?url=https%3A%2F%2Fimg.ophim.live%2Fuploads%2Fmovies%2Fto-chat-anh-hung-phan-1-thumb.jpg&amp;w=32&amp;q=75 32w, /_next/image?url=https%3A%2F%2Fimg.ophim.live%2Fuploads%2Fmovies%2Fto-chat-anh-hung-phan-1-thumb.jpg&amp;w=48&amp;q=75 48w, /_next/image?url=https%3A%2F%2Fimg.ophim.live%2Fuploads%2Fmovies%2Fto-chat-anh-hung-phan-1-thumb.jpg&amp;w=64&amp;q=75 64w, /_next/image?url=https%3A%2F%2Fimg.ophim.live%2Fuploads%2Fmovies%2Fto-chat-anh-hung-phan-1-thumb.jpg&amp;w=96&amp;q=75 96w, /_next/image?url=https%3A%2F%2Fimg.ophim.live%2Fuploads%2Fmovies%2Fto-chat-anh-hung-phan-1-thumb.jpg&amp;w=128&amp;q=75 128w, /_next/image?url=https%3A%2F%2Fimg.ophim.live%2Fuploads%2Fmovies%2Fto-chat-anh-hung-phan-1-thumb.jpg&amp;w=136&amp;q=75 136w, /_next/image?url=https%3A%2F%2Fimg.ophim.live%2Fuploads%2Fmovies%2Fto-chat-anh-hung-phan-1-thumb.jpg&amp;w=160&amp;q=75 160w, /_next/image?url=https%3A%2F%2Fimg.ophim.live%2Fuploads%2Fmovies%2Fto-chat-anh-hung-phan-1-thumb.jpg&amp;w=169&amp;q=75 169w, /_next/image?url=https%3A%2F%2Fimg.ophim.live%2Fuploads%2Fmovies%2Fto-chat-anh-hung-phan-1-thumb.jpg&amp;w=192&amp;q=75 192w, /_next/image?url=https%3A%2F%2Fimg.ophim.live%2Fuploads%2Fmovies%2Fto-chat-anh-hung-phan-1-thumb.jpg&amp;w=256&amp;q=75 256w, /_next/image?url=https%3A%2F%2Fimg.ophim.live%2Fuploads%2Fmovies%2Fto-chat-anh-hung-phan-1-thumb.jpg&amp;w=384&amp;q=75 384w, /_next/image?url=https%3A%2F%2Fimg.ophim.live%2Fuploads%2Fmovies%2Fto-chat-anh-hung-phan-1-thumb.jpg&amp;w=684&amp;q=75 684w\" imagesizes=\"(max-width: 480px) 335px, (max-width: 1000px) 252px, 252px\"/><meta name=\"next-head-count\" content=\"36\"/><link rel=\"preload\" href=\"/_next/static/css/69b134ba63c36aba.css\" as=\"style\"/><link rel=\"stylesheet\" href=\"/_next/static/css/69b134ba63c36aba.css\" data-n-g=\"\"/><noscript data-n-css=\"\"></noscript><script defer=\"\" nomodule=\"\" src=\"/_next/static/chunks/polyfills-5cd94c89d3acac5f.js\"></script><script src=\"/_next/static/chunks/webpack-e443416cc051def9.js\" defer=\"\"></script><script src=\"/_next/static/chunks/main-92b78801338e3874.js\" defer=\"\"></script><script src=\"/_next/static/chunks/pages/_app-89cd37b9f9325bb8.js\" defer=\"\"></script><script src=\"/_next/static/chunks/675-4a234c9c7bb34099.js\" defer=\"\"></script><script src=\"/_next/static/chunks/pages/phim/%5Bslug%5D-5cd0901b00ff1319.js\" defer=\"\"></script><script src=\"/_next/static/YjU3ELa3ICaBELMtMHUHj/_buildManifest.js\" defer=\"\"></script><script src=\"/_next/static/YjU3ELa3ICaBELMtMHUHj/_ssgManifest.js\" defer=\"\"></script><script src=\"/_next/static/YjU3ELa3ICaBELMtMHUHj/_middlewareManifest.js\" defer=\"\"></script><style id=\"__jsx-3657177415\">#nprogress{pointer-events:none;}#nprogress .bar{background:#7367f0;position:fixed;z-index:9999;top:0;left:0;width:100%;height:3px;}#nprogress .peg{display:block;position:absolute;right:0px;width:100px;height:100%;box-shadow:0 0 10px #7367f0,0 0 5px #7367f0;opacity:1;-webkit-transform:rotate(3deg) translate(0px,-4px);-ms-transform:rotate(3deg) translate(0px,-4px);-webkit-transform:rotate(3deg) translate(0px,-4px);-ms-transform:rotate(3deg) translate(0px,-4px);transform:rotate(3deg) translate(0px,-4px);}#nprogress .spinner{display:block;position:fixed;z-index:1031;top:15px;right:15px;}#nprogress .spinner-icon{width:18px;height:18px;box-sizing:border-box;border:solid 2px transparent;border-top-color:#7367f0;border-left-color:#7367f0;border-radius:50%;-webkit-animation:nprogresss-spinner 400ms linear infinite;-webkit-animation:nprogress-spinner 400ms linear infinite;animation:nprogress-spinner 400ms linear infinite;}.nprogress-custom-parent{overflow:hidden;position:relative;}.nprogress-custom-parent #nprogress .spinner,.nprogress-custom-parent #nprogress .bar{position:absolute;}@-webkit-keyframes nprogress-spinner{0%{-webkit-transform:rotate(0deg);}100%{-webkit-transform:rotate(360deg);}}@-webkit-keyframes nprogress-spinner{0%{-webkit-transform:rotate(0deg);-ms-transform:rotate(0deg);transform:rotate(0deg);}100%{-webkit-transform:rotate(360deg);-ms-transform:rotate(360deg);transform:rotate(360deg);}}@keyframes nprogress-spinner{0%{-webkit-transform:rotate(0deg);-ms-transform:rotate(0deg);transform:rotate(0deg);}100%{-webkit-transform:rotate(360deg);-ms-transform:rotate(360deg);transform:rotate(360deg);}}</style></head><body class=\"antialiased text-slate-500 dark:text-slate-400 bg-white dark:bg-slate-900\"><div id=\"__next\" data-reactroot=\"\"><div class=\"absolute z-20 top-0 inset-x-0 flex justify-center overflow-hidden pointer-events-none\"><div class=\"w-[108rem] flex-none flex justify-end\"><picture><img src=\"/bg-light.png\" alt=\"\" class=\"w-[71.75rem] flex-none max-w-none dark:hidden\"/></picture><picture><img src=\"/bg-dark.png\" alt=\"\" class=\"w-[90rem] flex-none max-w-none hidden dark:block\"/></picture></div></div><div class=\"sticky top-0 z-40 w-full flex-none transition-colors duration-500 lg:z-50 lg:border-b lg:border-slate-900/10 dark:border-slate-50/[0.06] backdrop-blur bg-white/60 dark:bg-transparent\"><div class=\"max-w-8xl mx-auto\"><div class=\"py-4 border-b border-slate-900/10 lg:px-8 lg:border-0 dark:border-slate-300/10 mx-4 lg:mx-0\"><div class=\"relative flex items-center\"><div class=\"mr-3 flex-none overflow-hidden w-auto\"><span class=\"sr-only\">Dữ liệu phim vietsub miễn phí mới nhất. Cập nhật nhanh chóng, chất lượng cao và không quảng cáo</span><span class=\"font-bold\"><a href=\"/\"><img src=\"/logo-ophim-6.png\" class=\"w-[150px] h-[40px]\" alt=\"Ổ Phim\"/></a></span></div><div class=\"relative pointer-events-auto\"><div class=\"relative hidden xl:block\"><form class=\"group relative\" method=\"GET\"><svg width=\"20\" height=\"20\" fill=\"currentColor\" class=\"absolute left-3 top-1/2 -mt-2.5 text-slate-400 pointer-events-none group-focus-within:text-blue-500\" aria-hidden=\"true\"><path fill-rule=\"evenodd\" clip-rule=\"evenodd\" d=\"M8 4a4 4 0 100 8 4 4 0 000-8zM2 8a6 6 0 1110.89 3.476l4.817 4.817a1 1 0 01-1.414 1.414l-4.816-4.816A6 6 0 012 8z\"></path></svg><input type=\"text\" value=\"\" class=\"focus:ring-2 focus:ring-blue-500 focus:outline-none appearance-none w-full text-sm leading-6 text-slate-900 dark:text-slate-100 placeholder-slate-400 rounded-full py-2 pl-10 ring-1 ring-slate-200 dark:ring-slate-800 shadow-sm dark:bg-slate-800 dark:highlight-white/5 dark:hover:bg-slate-700\" aria-label=\"Tìm kiếm phim\" placeholder=\"Tìm kiếm phim...\"/></form></div></div><div class=\"relative hidden xl:flex items-center ml-auto\"><nav class=\"text-sm leading-6 font-semibold text-slate-700 dark:text-slate-200\"><ul class=\"flex space-x-8\"><li><a class=\"hover:text-sky-500 dark:hover:text-sky-400\" href=\"/danh-sach/phim-bo\">Phim Bộ</a></li><li><a class=\"hover:text-sky-500 dark:hover:text-sky-400\" href=\"/danh-sach/phim-le\">Phim Lẻ</a></li><li><a class=\"hover:text-sky-500 dark:hover:text-sky-400\" href=\"/danh-sach/tv-shows\">Shows</a></li><li><a class=\"hover:text-sky-500 dark:hover:text-sky-400\" href=\"/danh-sach/hoat-hinh\">Hoạt Hình</a></li><li><span class=\"hover:text-sky-500 dark:hover:text-sky-400\"><div class=\"relative inline-block text-left\"><div><button class=\"inline-flex justify-center w-full text-sm font-medium rounded-md bg-opacity-20 hover:bg-opacity-30 focus:outline-none focus-visible:ring-2 focus-visible:ring-white focus-visible:ring-opacity-75\" id=\"headlessui-menu-button-undefined\" type=\"button\" aria-haspopup=\"true\" aria-expanded=\"false\">Thể Loại<svg xmlns=\"http://www.w3.org/2000/svg\" viewBox=\"0 0 20 20\" fill=\"currentColor\" aria-hidden=\"true\" class=\"w-5 h-5 ml-2 -mr-1 text-violet-400 hover:text-violet-800\"><path fill-rule=\"evenodd\" d=\"M5.293 7.293a1 1 0 011.414 0L10 10.586l3.293-3.293a1 1 0 111.414 1.414l-4 4a1 1 0 01-1.414 0l-4-4a1 1 0 010-1.414z\" clip-rule=\"evenodd\"></path></svg></button></div></div></span></li><li><span class=\"hover:text-sky-500 dark:hover:text-sky-400\"><div class=\"relative inline-block text-left\"><div><button class=\"inline-flex justify-center w-full text-sm font-medium rounded-md bg-opacity-20 hover:bg-opacity-30 focus:outline-none focus-visible:ring-2 focus-visible:ring-white focus-visible:ring-opacity-75\" id=\"headlessui-menu-button-undefined\" type=\"button\" aria-haspopup=\"true\" aria-expanded=\"false\">Quốc Gia<svg xmlns=\"http://www.w3.org/2000/svg\" viewBox=\"0 0 20 20\" fill=\"currentColor\" aria-hidden=\"true\" class=\"w-5 h-5 ml-2 -mr-1 text-violet-400 hover:text-violet-800\"><path fill-rule=\"evenodd\" d=\"M5.293 7.293a1 1 0 011.414 0L10 10.586l3.293-3.293a1 1 0 111.414 1.414l-4 4a1 1 0 01-1.414 0l-4-4a1 1 0 010-1.414z\" clip-rule=\"evenodd\"></path></svg></button></div></div></span></li><li><a class=\"hover:text-sky-500 dark:hover:text-sky-400\" href=\"/danh-sach/phim-sap-chieu\">Sắp Chiếu</a></li><li><a class=\"text-red-500 hover:text-sky-500 dark:hover:text-sky-400\" href=\"/danh-sach/subteam\">Subteam</a></li></ul></nav><div class=\"flex items-center border-l border-slate-200 ml-6 pl-6 dark:border-slate-800\"><label class=\"sr-only\">Theme</label><div class=\"relative inline-block text-left\"><div><button class=\"inline-flex justify-center w-full text-sm font-medium rounded-md bg-opacity-20 hover:bg-opacity-30 focus:outline-none focus-visible:ring-2 focus-visible:ring-white focus-visible:ring-opacity-75\" id=\"headlessui-menu-button-undefined\" type=\"button\" aria-haspopup=\"true\" aria-expanded=\"false\"><svg xmlns=\"http://www.w3.org/2000/svg\" viewBox=\"0 0 20 20\" fill=\"currentColor\" aria-hidden=\"true\" class=\"dark:hidden w-6 h-6\"><path fill-rule=\"evenodd\" d=\"M10 2a1 1 0 011 1v1a1 1 0 11-2 0V3a1 1 0 011-1zm4 8a4 4 0 11-8 0 4 4 0 018 0zm-.464 4.95l.707.707a1 1 0 001.414-1.414l-.707-.707a1 1 0 00-1.414 1.414zm2.12-10.607a1 1 0 010 1.414l-.706.707a1 1 0 11-1.414-1.414l.707-.707a1 1 0 011.414 0zM17 11a1 1 0 100-2h-1a1 1 0 100 2h1zm-7 4a1 1 0 011 1v1a1 1 0 11-2 0v-1a1 1 0 011-1zM5.05 6.464A1 1 0 106.465 5.05l-.708-.707a1 1 0 00-1.414 1.414l.707.707zm1.414 8.486l-.707.707a1 1 0 01-1.414-1.414l.707-.707a1 1 0 011.414 1.414zM4 11a1 1 0 100-2H3a1 1 0 000 2h1z\" clip-rule=\"evenodd\"></path></svg><svg xmlns=\"http://www.w3.org/2000/svg\" viewBox=\"0 0 20 20\" fill=\"currentColor\" aria-hidden=\"true\" class=\"hidden dark:inline w-6 h-6\"><path d=\"M17.293 13.293A8 8 0 016.707 2.707a8.001 8.001 0 1010.586 10.586z\"></path></svg></button></div></div></div></div><button type=\"button\" class=\"ml-auto text-slate-500 w-8 h-8 -my-1 flex items-center justify-center hover:text-slate-600 xl:hidden dark:text-slate-400 dark:hover:text-slate-300\"><span class=\"sr-only\">Search</span><svg width=\"24\" height=\"24\" fill=\"none\" stroke=\"currentColor\" stroke-width=\"2\" stroke-linecap=\"round\" stroke-linejoin=\"round\" aria-hidden=\"true\"><path d=\"m19 19-3.5-3.5\"></path><circle cx=\"11\" cy=\"11\" r=\"6\"></circle></svg></button><div class=\"ml-2 -my-1 xl:hidden\"><button type=\"button\" class=\"text-slate-500 w-8 h-8 flex items-center justify-center hover:text-slate-600 dark:text-slate-400 dark:hover:text-slate-300\"><span class=\"sr-only\">Navigation</span><svg xmlns=\"http://www.w3.org/2000/svg\" class=\"w-6 h-6\" fill=\"none\" viewBox=\"0 0 24 24\" stroke=\"currentColor\" stroke-width=\"2\"><path stroke-linecap=\"round\" stroke-linejoin=\"round\" d=\"M4 6h16M4 12h16M4 18h16\"></path></svg></button></div></div></div></div></div><div class=\"container px-2 mx-auto\"><div class=\"flex items-center p-4 border-b border-slate-900/10 dark:border-slate-50/[0.06]\"><button type=\"button\" class=\"text-slate-500 hover:text-slate-600 dark:text-slate-400 dark:hover:text-slate-300\"><span class=\"sr-only\">Trang Chủ</span><svg xmlns=\"http://www.w3.org/2000/svg\" viewBox=\"0 0 20 20\" fill=\"currentColor\" aria-hidden=\"true\" class=\"w-6 h-6\"><path d=\"M10.707 2.293a1 1 0 00-1.414 0l-7 7a1 1 0 001.414 1.414L4 10.414V17a1 1 0 001 1h2a1 1 0 001-1v-2a1 1 0 011-1h2a1 1 0 011 1v2a1 1 0 001 1h2a1 1 0 001-1v-6.586l.293.293a1 1 0 001.414-1.414l-7-7z\"></path></svg></button><ol class=\"ml-4 flex text-sm leading-6 overflow-hidden overflow-ellipsis whitespace-nowrap min-w-0\" itemscope=\"\" itemType=\"https://schema.org/BreadcrumbList\"><li class=\"flex items-center\" itemProp=\"itemListElement\" itemscope=\"\" itemType=\"http://schema.org/ListItem\" href=\"/\"><a itemProp=\"item\" title=\"Nguồn Phim Mới\" href=\"/\"><span class=\"text-slate-500 hover:text-sky-500 dark:text-slate-400 dark:hover:text-slate-300\" itemProp=\"name\">Trang Chủ</span><meta itemProp=\"position\" content=\"1\"/></a><svg width=\"3\" height=\"6\" aria-hidden=\"true\" class=\"mx-3 overflow-visible text-slate-400\"><path d=\"M0 0L3 3L0 6\" fill=\"none\" stroke=\"currentColor\" stroke-width=\"1.5\" stroke-linecap=\"round\"></path></svg></li><li class=\"flex items-center\" itemProp=\"itemListElement\" itemscope=\"\" itemType=\"http://schema.org/ListItem\" href=\"/danh-sach/hoat-hinh\"><a itemProp=\"item\" title=\"Hoạt Hình\" href=\"/danh-sach/hoat-hinh\"><span class=\"text-slate-500 hover:text-sky-500 dark:text-slate-400 dark:hover:text-slate-300\" itemProp=\"name\">Hoạt Hình</span><meta itemProp=\"position\" content=\"2\"/></a><svg width=\"3\" height=\"6\" aria-hidden=\"true\" class=\"mx-3 overflow-visible text-slate-400\"><path d=\"M0 0L3 3L0 6\" fill=\"none\" stroke=\"currentColor\" stroke-width=\"1.5\" stroke-linecap=\"round\"></path></svg></li><li class=\"flex items-center\" itemProp=\"itemListElement\" itemscope=\"\" itemType=\"http://schema.org/ListItem\" href=\"/quoc-gia/trung-quoc\"><a itemProp=\"item\" title=\"Trung Quốc\" href=\"/quoc-gia/trung-quoc\"><span class=\"text-slate-500 hover:text-sky-500 dark:text-slate-400 dark:hover:text-slate-300\" itemProp=\"name\">Trung Quốc</span><meta itemProp=\"position\" content=\"3\"/></a><svg width=\"3\" height=\"6\" aria-hidden=\"true\" class=\"mx-3 overflow-visible text-slate-400\"><path d=\"M0 0L3 3L0 6\" fill=\"none\" stroke=\"currentColor\" stroke-width=\"1.5\" stroke-linecap=\"round\"></path></svg></li><li class=\"flex items-center\" itemProp=\"itemListElement\" itemscope=\"\" itemType=\"http://schema.org/ListItem\" href=\"/quoc-gia/han-quoc\"><a itemProp=\"item\" title=\"Hàn Quốc\" href=\"/quoc-gia/han-quoc\"><span class=\"text-slate-500 hover:text-sky-500 dark:text-slate-400 dark:hover:text-slate-300\" itemProp=\"name\">Hàn Quốc</span><meta itemProp=\"position\" content=\"3\"/></a><svg width=\"3\" height=\"6\" aria-hidden=\"true\" class=\"mx-3 overflow-visible text-slate-400\"><path d=\"M0 0L3 3L0 6\" fill=\"none\" stroke=\"currentColor\" stroke-width=\"1.5\" stroke-linecap=\"round\"></path></svg></li><li class=\"flex items-center\" itemProp=\"itemListElement\" itemscope=\"\" itemType=\"http://schema.org/ListItem\" href=\"/quoc-gia/thai-lan\"><a itemProp=\"item\" title=\"Thái Lan\" href=\"/quoc-gia/thai-lan\"><span class=\"text-slate-500 hover:text-sky-500 dark:text-slate-400 dark:hover:text-slate-300\" itemProp=\"name\">Thái Lan</span><meta itemProp=\"position\" content=\"3\"/></a><svg width=\"3\" height=\"6\" aria-hidden=\"true\" class=\"mx-3 overflow-visible text-slate-400\"><path d=\"M0 0L3 3L0 6\" fill=\"none\" stroke=\"currentColor\" stroke-width=\"1.5\" stroke-linecap=\"round\"></path></svg></li><li class=\"flex items-center\" itemProp=\"itemListElement\" itemscope=\"\" itemType=\"http://schema.org/ListItem\" href=\"/the-loai/hanh-dong\"><a itemProp=\"item\" title=\"Hành Động\" href=\"/the-loai/hanh-dong\"><span class=\"text-slate-500 hover:text-sky-500 dark:text-slate-400 dark:hover:text-slate-300\" itemProp=\"name\">Hành Động</span><meta itemProp=\"position\" content=\"3\"/></a><svg width=\"3\" height=\"6\" aria-hidden=\"true\" class=\"mx-3 overflow-visible text-slate-400\"><path d=\"M0 0L3 3L0 6\" fill=\"none\" stroke=\"currentColor\" stroke-width=\"1.5\" stroke-linecap=\"round\"></path></svg></li><li class=\"flex items-center\" itemProp=\"itemListElement\" itemscope=\"\" itemType=\"http://schema.org/ListItem\" href=\"/the-loai/hai-huoc\"><a itemProp=\"item\" title=\"Hài Hước\" href=\"/the-loai/hai-huoc\"><span class=\"text-slate-500 hover:text-sky-500 dark:text-slate-400 dark:hover:text-slate-300\" itemProp=\"name\">Hài Hước</span><meta itemProp=\"position\" content=\"3\"/></a><svg width=\"3\" height=\"6\" aria-hidden=\"true\" class=\"mx-3 overflow-visible text-slate-400\"><path d=\"M0 0L3 3L0 6\" fill=\"none\" stroke=\"currentColor\" stroke-width=\"1.5\" stroke-linecap=\"round\"></path></svg></li><li class=\"flex items-center\" itemProp=\"itemListElement\" itemscope=\"\" itemType=\"http://schema.org/ListItem\" href=\"/the-loai/phieu-luu\"><a itemProp=\"item\" title=\"Phiêu Lưu\" href=\"/the-loai/phieu-luu\"><span class=\"text-slate-500 hover:text-sky-500 dark:text-slate-400 dark:hover:text-slate-300\" itemProp=\"name\">Phiêu Lưu</span><meta itemProp=\"position\" content=\"3\"/></a><svg width=\"3\" height=\"6\" aria-hidden=\"true\" class=\"mx-3 overflow-visible text-slate-400\"><path d=\"M0 0L3 3L0 6\" fill=\"none\" stroke=\"currentColor\" stroke-width=\"1.5\" stroke-linecap=\"round\"></path></svg></li><li itemProp=\"itemListElement\" itemscope=\"\" itemType=\"http://schema.org/ListItem\" href=\"/phim/to-chat-anh-hung-phan-1\"><a itemProp=\"item\" title=\"Tố Chất Anh Hùng (Phần 1)\" href=\"/phim/to-chat-anh-hung-phan-1\"><span class=\"font-semibold text-slate-900 truncate dark:text-slate-200 hover:text-sky-500\" itemProp=\"name\">Tố Chất Anh Hùng (Phần 1)</span><meta itemProp=\"position\" content=\"4\"/></a></li></ol></div><div class=\"container mx-auto mt-2 px-8 py-2 w-full\"><div class=\"flex flex-col\"><div class=\"-my-2 overflow-x-auto sm:-mx-6 lg:-mx-8 space-y-2\"><div class=\"bg-gray-100 dark:bg-slate-800 p-2 rounded-2xl md:flex flex-wrap\"><div class=\"relative w-full h-full md:w-1/3 lg:w-1/6\"><span style=\"box-sizing:border-box;display:block;overflow:hidden;width:initial;height:initial;background:none;opacity:1;border:0;margin:0;padding:0;position:relative\"><span style=\"box-sizing:border-box;display:block;width:initial;height:initial;background:none;opacity:1;border:0;margin:0;padding:0;padding-top:136.9047619047619%\"></span><img alt=\"Tố Chất Anh Hùng (Phần 1) - Hero Inside (Season 1) (2023)\" sizes=\"(max-width: 480px) 335px, (max-width: 1000px) 252px, 252px\" srcSet=\"/_next/image?url=https%3A%2F%2Fimg.ophim.live%2Fuploads%2Fmovies%2Fto-chat-anh-hung-phan-1-thumb.jpg&amp;w=16&amp;q=75 16w, /_next/image?url=https%3A%2F%2Fimg.ophim.live%2Fuploads%2Fmovies%2Fto-chat-anh-hung-phan-1-thumb.jpg&amp;w=32&amp;q=75 32w, /_next/image?url=https%3A%2F%2Fimg.ophim.live%2Fuploads%2Fmovies%2Fto-chat-anh-hung-phan-1-thumb.jpg&amp;w=48&amp;q=75 48w, /_next/image?url=https%3A%2F%2Fimg.ophim.live%2Fuploads%2Fmovies%2Fto-chat-anh-hung-phan-1-thumb.jpg&amp;w=64&amp;q=75 64w, /_next/image?url=https%3A%2F%2Fimg.ophim.live%2Fuploads%2Fmovies%2Fto-chat-anh-hung-phan-1-thumb.jpg&amp;w=96&amp;q=75 96w, /_next/image?url=https%3A%2F%2Fimg.ophim.live%2Fuploads%2Fmovies%2Fto-chat-anh-hung-phan-1-thumb.jpg&amp;w=128&amp;q=75 128w, /_next/image?url=https%3A%2F%2Fimg.ophim.live%2Fuploads%2Fmovies%2Fto-chat-anh-hung-phan-1-thumb.jpg&amp;w=136&amp;q=75 136w, /_next/image?url=https%3A%2F%2Fimg.ophim.live%2Fuploads%2Fmovies%2Fto-chat-anh-hung-phan-1-thumb.jpg&amp;w=160&amp;q=75 160w, /_next/image?url=https%3A%2F%2Fimg.ophim.live%2Fuploads%2Fmovies%2Fto-chat-anh-hung-phan-1-thumb.jpg&amp;w=169&amp;q=75 169w, /_next/image?url=https%3A%2F%2Fimg.ophim.live%2Fuploads%2Fmovies%2Fto-chat-anh-hung-phan-1-thumb.jpg&amp;w=192&amp;q=75 192w, /_next/image?url=https%3A%2F%2Fimg.ophim.live%2Fuploads%2Fmovies%2Fto-chat-anh-hung-phan-1-thumb.jpg&amp;w=256&amp;q=75 256w, /_next/image?url=https%3A%2F%2Fimg.ophim.live%2Fuploads%2Fmovies%2Fto-chat-anh-hung-phan-1-thumb.jpg&amp;w=384&amp;q=75 384w, /_next/image?url=https%3A%2F%2Fimg.ophim.live%2Fuploads%2Fmovies%2Fto-chat-anh-hung-phan-1-thumb.jpg&amp;w=684&amp;q=75 684w\" src=\"/_next/image?url=https%3A%2F%2Fimg.ophim.live%2Fuploads%2Fmovies%2Fto-chat-anh-hung-phan-1-thumb.jpg&amp;w=684&amp;q=75\" decoding=\"async\" data-nimg=\"responsive\" class=\"w-full h-auto rounded-xl\" style=\"position:absolute;top:0;left:0;bottom:0;right:0;box-sizing:border-box;padding:0;border:none;margin:auto;display:block;width:0;height:0;min-width:100%;max-width:100%;min-height:100%;max-height:100%;filter:blur(20px);background-size:cover;background-image:url(&quot;data:image/svg+xml;base64,iVBORw0KGgoAAAANSUhEUgAAAAEAAAABCAQAAAC1HAwCAAAAC0lEQVR42mP8/x8AAwMCAO+ip1sAAAAASUVORK5CYII=&quot;);background-position:0% 0%\"/></span><div class=\"absolute bottom-0 space-x-2 text-center w-full bg-white dark:bg-black bg-opacity-40 dark:bg-opacity-80 py-2 m-0 rounded-t-none rounded-lg\"><div class=\"cursor-pointer hover:bg-opacity-80 bg-violet-500 text-gray-50 dark:text-gray-50 inline-block px-1 py-1 rounded\">Xem Phim</div><div class=\"cursor-pointer hover:bg-opacity-80 bg-red-500 text-gray-50 dark:text-gray-50 inline-block px-1 py-1 rounded\">Lấy Nguồn</div><div class=\"cursor-pointer hover:bg-opacity-80 bg-blue-500 text-gray-50 dark:text-gray-50 inline-block px-1 py-1 rounded\"><a target=\"_blank\" href=\"https://ophim1.com/phim/to-chat-anh-hung-phan-1\" title=\"API Phim Tố Chất Anh Hùng (Phần 1)\" rel=\"noopener noreferrer\">API</a></div></div></div><div class=\"w-full md:w-2/3 lg:w-5/6 pl-4 pt-0 mt-2 md:mt-0 text-sm md:text-base\"><div class=\"text-center rounded-md\"><h1 class=\"uppercase text-lg font-bold text-violet-500\">Tố Chất Anh Hùng (Phần 1)</h1><h2 class=\"italic text-sky-500\">Hero Inside (Season 1)</h2></div><div class=\"overflow-hidden lg:overflow-auto scrollbar:!w-1.5 scrollbar:!h-1.5 scrollbar:bg-transparent scrollbar-track:!bg-slate-100 scrollbar-thumb:!rounded scrollbar-thumb:!bg-slate-300 scrollbar-track:!rounded dark:scrollbar-track:!bg-slate-500/[0.16] dark:scrollbar-thumb:!bg-slate-500/50\"><table class=\"w-full text-left border-collapse\"><thead><tr><th class=\"w-1/4\"><div class=\"sr-only\">Class</div></th><th class=\"w-3/4\"><div class=\"sr-only\">Properties</div></th></tr></thead><tbody class=\"align-baseline\"><tr class=\"border-t border-slate-200 dark:border-slate-400/20\"><td translate=\"no\" class=\"py-1 pr-2 leading-5 text-sky-500 whitespace-nowrap dark:text-sky-400\">Trạng thái</td><td translate=\"no\" class=\"py-1 pl-2 leading-5 text-indigo-600 whitespace-normal dark:text-indigo-300\">Hoàn Tất (11/11)</td></tr><tr class=\"border-t border-slate-200 dark:border-slate-400/20\"><td translate=\"no\" class=\"py-1 pr-2 leading-5 text-sky-500 whitespace-nowrap dark:text-sky-400\">Số tập</td><td translate=\"no\" class=\"py-1 pl-2 leading-5 text-indigo-600 whitespace-normal dark:text-indigo-300\">11 Tập</td></tr><tr class=\"border-t border-slate-200 dark:border-slate-400/20\"><td translate=\"no\" class=\"py-1 pr-2 leading-5 text-sky-500 whitespace-nowrap dark:text-sky-400\">Thời Lượng</td><td translate=\"no\" class=\"py-1 pl-2 leading-5 text-indigo-600 whitespace-normal dark:text-indigo-300\">15 phút/tập</td></tr><tr class=\"border-t border-slate-200 dark:border-slate-400/20\"><td translate=\"no\" class=\"py-1 pr-2 leading-5 text-sky-500 whitespace-nowrap dark:text-sky-400\">Năm Phát Hành</td><td translate=\"no\" class=\"py-1 pl-2 leading-5 text-indigo-600 whitespace-normal dark:text-indigo-300\">2023</td></tr><tr class=\"border-t border-slate-200 dark:border-slate-400/20\"><td translate=\"no\" class=\"py-1 pr-2 leading-5 text-sky-500 whitespace-nowrap dark:text-sky-400\">Chất Lượng</td><td translate=\"no\" class=\"py-1 pl-2 leading-5 text-indigo-600 whitespace-normal dark:text-indigo-300\">HD</td></tr><tr class=\"border-t border-slate-200 dark:border-slate-400/20\"><td translate=\"no\" class=\"py-1 pr-2 leading-5 text-sky-500 whitespace-nowrap dark:text-sky-400\">Ngôn Ngữ</td><td translate=\"no\" class=\"py-1 pl-2 leading-5 text-indigo-600 whitespace-normal dark:text-indigo-300\">Thuyết Minh</td></tr><tr class=\"border-t border-slate-200 dark:border-slate-400/20\"><td translate=\"no\" class=\"py-1 pr-2 leading-5 text-sky-500 whitespace-nowrap dark:text-sky-400\">Đạo Diễn</td><td translate=\"no\" class=\"py-1 pl-2 leading-5 text-indigo-600 whitespace-normal dark:text-indigo-300\">Koh Tae-wook, Kim Jae Hyung</td></tr><tr class=\"border-t border-slate-200 dark:border-slate-400/20\"><td translate=\"no\" class=\"py-1 pr-2 leading-5 text-sky-500 whitespace-nowrap dark:text-sky-400\">Diễn Viên</td><td translate=\"no\" class=\"py-1 pl-2 leading-5 text-indigo-600 whitespace-normal dark:text-indigo-300\">Marc Thompson, James Brown Jr., Barrett Leddy, Samantha Cooper, Valory Pierce, Dinesh Alvis, Brent Mukai, Jamie Craib, Jason Griffith, Lucas Schuneman</td></tr><tr class=\"border-t border-slate-200 dark:border-slate-400/20\"><td translate=\"no\" class=\"py-1 pr-2 leading-5 text-sky-500 whitespace-nowrap dark:text-sky-400\">Thể Loại</td><td translate=\"no\" class=\"py-1 pl-2 leading-5 text-indigo-600 whitespace-normal dark:text-indigo-300\">Hành Động, Hài Hước, Phiêu Lưu</td></tr><tr class=\"border-t border-slate-200 dark:border-slate-400/20\"><td translate=\"no\" class=\"py-1 pr-2 leading-5 text-sky-500 whitespace-nowrap dark:text-sky-400\">Quốc Gia</td><td translate=\"no\" class=\"py-1 pl-2 leading-5 text-indigo-600 whitespace-normal dark:text-indigo-300\">Trung Quốc, Hàn Quốc, Thái Lan</td></tr></tbody></table><div class=\"sticky bottom-0 h-px -mt-px bg-slate-200 dark:bg-slate-400/20\"></div></div></div></div><div class=\"w-full\"><div class=\"w-full p-2 space-y-2 mx-auto bg-gray-100 dark:bg-slate-800 rounded-2xl\"><button class=\"flex justify-between w-full px-4 py-2 text-sm font-medium text-left text-sky-900 bg-sky-300 dark:text-sky-400 dark:bg-sky-900 rounded-lg hover:bg-sky-200 focus:outline-none focus-visible:ring focus-visible:ring-sky-500 focus-visible:ring-opacity-75\" id=\"headlessui-disclosure-button-undefined\" type=\"button\" aria-expanded=\"true\"><span>Nội dung phim</span><svg xmlns=\"http://www.w3.org/2000/svg\" viewBox=\"0 0 20 20\" fill=\"currentColor\" aria-hidden=\"true\" class=\"transform rotate-180 w-5 h-5 text-sky-500\"><path fill-rule=\"evenodd\" d=\"M14.707 12.707a1 1 0 01-1.414 0L10 9.414l-3.293 3.293a1 1 0 01-1.414-1.414l4-4a1 1 0 011.414 0l4 4a1 1 0 010 1.414z\" clip-rule=\"evenodd\"></path></svg></button><div class=\"px-4 pt-4 pb-2 text-sm text-gray-500 dark:text-gray-200\" id=\"headlessui-disclosure-panel-undefined\"><article><p>Các anh hùng có thể bước ra khỏi truyện tranh khi được triệu hồi trong trò chơi hành động phiêu lưu hài hước này.</p></article></div><div><div class=\"mt-0\"><button class=\"flex justify-between w-full px-4 py-2 text-sm font-medium text-left text-sky-900 bg-sky-300 dark:text-sky-400 dark:bg-sky-900 rounded-lg hover:bg-sky-200\" id=\"headlessui-disclosure-button-undefined\" type=\"button\" aria-expanded=\"true\"><span>Xem Phim</span><svg xmlns=\"http://www.w3.org/2000/svg\" viewBox=\"0 0 20 20\" fill=\"currentColor\" aria-hidden=\"true\" class=\"transform rotate-180 w-5 h-5 text-sky-500\"><path fill-rule=\"evenodd\" d=\"M14.707 12.707a1 1 0 01-1.414 0L10 9.414l-3.293 3.293a1 1 0 01-1.414-1.414l4-4a1 1 0 011.414 0l4 4a1 1 0 010 1.414z\" clip-rule=\"evenodd\"></path></svg></button><div class=\"px-4 pt-4 pb-2 text-sm text-gray-500 dark:text-gray-200\" id=\"headlessui-disclosure-panel-undefined\"><div class=\"w-full px-2 sm:px-0\"><div><div class=\"py-2 uppercase font-bold\">Server: <span class=\"text-violet-500\">Thuyết Minh #1</span></div><div class=\"grid grid-cols-3 md:grid-cols-6 lg:grid-cols-16 gap-2\"><a target=\"_blank\" href=\"https://vip.opstream16.com/share/dd05f857aff427aad73e4c634b1cf060\" title=\"Xem phim Tố Chất Anh Hùng (Phần 1) Tập 1\" rel=\"noopener noreferrer\" class=\"text-center overflow-hidden overflow-ellipsis whitespace-nowrap px-5 py-1 rounded shadow-md bg-gray-400 text-gray-50 hover:bg-violet-500 dark:bg-slate-600 dark:hover:bg-violet-600\">1</a><a target=\"_blank\" href=\"https://vip.opstream16.com/share/c5475a756076c9675123cee9448923f5\" title=\"Xem phim Tố Chất Anh Hùng (Phần 1) Tập 2\" rel=\"noopener noreferrer\" class=\"text-center overflow-hidden overflow-ellipsis whitespace-nowrap px-5 py-1 rounded shadow-md bg-gray-400 text-gray-50 hover:bg-violet-500 dark:bg-slate-600 dark:hover:bg-violet-600\">2</a><a target=\"_blank\" href=\"https://vip.opstream16.com/share/0c49f3516fb1717dc7ad8d2ae2200a94\" title=\"Xem phim Tố Chất Anh Hùng (Phần 1) Tập 3\" rel=\"noopener noreferrer\" class=\"text-center overflow-hidden overflow-ellipsis whitespace-nowrap px-5 py-1 rounded shadow-md bg-gray-400 text-gray-50 hover:bg-violet-500 dark:bg-slate-600 dark:hover:bg-violet-600\">3</a><a target=\"_blank\" href=\"https://vip.opstream16.com/share/d47da82feac4fce587b7b03ab2ee7f03\" title=\"Xem phim Tố Chất Anh Hùng (Phần 1) Tập 4\" rel=\"noopener noreferrer\" class=\"text-center overflow-hidden overflow-ellipsis whitespace-nowrap px-5 py-1 rounded shadow-md bg-gray-400 text-gray-50 hover:bg-violet-500 dark:bg-slate-600 dark:hover:bg-violet-600\">4</a><a target=\"_blank\" href=\"https://vip.opstream16.com/share/80584c1c68648ca0af9f7024c85307b5\" title=\"Xem phim Tố Chất Anh Hùng (Phần 1) Tập 5\" rel=\"noopener noreferrer\" class=\"text-center overflow-hidden overflow-ellipsis whitespace-nowrap px-5 py-1 rounded shadow-md bg-gray-400 text-gray-50 hover:bg-violet-500 dark:bg-slate-600 dark:hover:bg-violet-600\">5</a><a target=\"_blank\" href=\"https://vip.opstream16.com/share/3102051b5f75731d90b707b4ce0fd4a8\" title=\"Xem phim Tố Chất Anh Hùng (Phần 1) Tập 6\" rel=\"noopener noreferrer\" class=\"text-center overflow-hidden overflow-ellipsis whitespace-nowrap px-5 py-1 rounded shadow-md bg-gray-400 text-gray-50 hover:bg-violet-500 dark:bg-slate-600 dark:hover:bg-violet-600\">6</a><a target=\"_blank\" href=\"https://vip.opstream16.com/share/f60a0773c48f1312c792c95a86d459e7\" title=\"Xem phim Tố Chất Anh Hùng (Phần 1) Tập 7\" rel=\"noopener noreferrer\" class=\"text-center overflow-hidden overflow-ellipsis whitespace-nowrap px-5 py-1 rounded shadow-md bg-gray-400 text-gray-50 hover:bg-violet-500 dark:bg-slate-600 dark:hover:bg-violet-600\">7</a><a target=\"_blank\" href=\"https://vip.opstream16.com/share/a9136794e5b084c915b1470232654802\" title=\"Xem phim Tố Chất Anh Hùng (Phần 1) Tập 8\" rel=\"noopener noreferrer\" class=\"text-center overflow-hidden overflow-ellipsis whitespace-nowrap px-5 py-1 rounded shadow-md bg-gray-400 text-gray-50 hover:bg-violet-500 dark:bg-slate-600 dark:hover:bg-violet-600\">8</a><a target=\"_blank\" href=\"https://vip.opstream16.com/share/f9e2270a84c5a14c77836f5ed85d24a8\" title=\"Xem phim Tố Chất Anh Hùng (Phần 1) Tập 9\" rel=\"noopener noreferrer\" class=\"text-center overflow-hidden overflow-ellipsis whitespace-nowrap px-5 py-1 rounded shadow-md bg-gray-400 text-gray-50 hover:bg-violet-500 dark:bg-slate-600 dark:hover:bg-violet-600\">9</a><a target=\"_blank\" href=\"https://vip.opstream16.com/share/c6a8488de86eddf87c84edf4136a1126\" title=\"Xem phim Tố Chất Anh Hùng (Phần 1) Tập 10\" rel=\"noopener noreferrer\" class=\"text-center overflow-hidden overflow-ellipsis whitespace-nowrap px-5 py-1 rounded shadow-md bg-gray-400 text-gray-50 hover:bg-violet-500 dark:bg-slate-600 dark:hover:bg-violet-600\">10</a><a target=\"_blank\" href=\"https://vip.opstream16.com/share/307527f309aa633edcc5f228a5533f25\" title=\"Xem phim Tố Chất Anh Hùng (Phần 1) Tập 11\" rel=\"noopener noreferrer\" class=\"text-center overflow-hidden overflow-ellipsis whitespace-nowrap px-5 py-1 rounded shadow-md bg-gray-400 text-gray-50 hover:bg-violet-500 dark:bg-slate-600 dark:hover:bg-violet-600\">11</a></div></div></div></div></div></div><div><button class=\"flex justify-between w-full px-4 py-2 text-sm font-medium text-left text-sky-900 bg-sky-300 dark:text-sky-400 dark:bg-sky-900 rounded-lg hover:bg-sky-200 focus:outline-none focus-visible:ring focus-visible:ring-sky-500 focus-visible:ring-opacity-75\" id=\"headlessui-disclosure-button-undefined\" type=\"button\" aria-expanded=\"true\"><span>Định dạng nguồn</span><svg xmlns=\"http://www.w3.org/2000/svg\" viewBox=\"0 0 20 20\" fill=\"currentColor\" aria-hidden=\"true\" class=\"transform rotate-180 w-5 h-5 text-sky-500\"><path fill-rule=\"evenodd\" d=\"M14.707 12.707a1 1 0 01-1.414 0L10 9.414l-3.293 3.293a1 1 0 01-1.414-1.414l4-4a1 1 0 011.414 0l4 4a1 1 0 010 1.414z\" clip-rule=\"evenodd\"></path></svg></button><div class=\"px-4 pt-4 pb-2 text-sm text-gray-500 dark:text-gray-200\" id=\"headlessui-disclosure-panel-undefined\"><div class=\"\"><div class=\"lg:flex gap-x-2 mb-2\"><label class=\"\">Định dạng hiển thị: </label><div class=\"form-check form-check-inline\"><input type=\"radio\" class=\"form-check-input form-check-input appearance-none rounded-full h-4 w-4 border border-gray-300 bg-white checked:bg-blue-600 checked:border-blue-600 focus:outline-none transition duration-200 mt-1 align-top bg-no-repeat bg-center bg-contain float-left mr-2 cursor-pointer\" name=\"typeShow\" value=\"1\" checked=\"\"/><label class=\"form-check-label inline-block text-sky-500\" for=\"inlineRadio10\">Tập<!-- -->|<!-- -->Link</label></div><div class=\"form-check form-check-inline\"><input type=\"radio\" class=\"form-check-input form-check-input appearance-none rounded-full h-4 w-4 border border-gray-300 bg-white checked:bg-blue-600 checked:border-blue-600 focus:outline-none transition duration-200 mt-1 align-top bg-no-repeat bg-center bg-contain float-left mr-2 cursor-pointer\" name=\"typeShow\" value=\"2\"/><label class=\"form-check-label inline-block text-sky-500\" for=\"inlineRadio20\">Tập<!-- -->|<!-- -->Slug<!-- -->|<!-- -->Link</label></div><div class=\"form-check form-check-inline\"><input type=\"radio\" class=\"form-check-input form-check-input appearance-none rounded-full h-4 w-4 border border-gray-300 bg-white checked:bg-blue-600 checked:border-blue-600 focus:outline-none transition duration-200 mt-1 align-top bg-no-repeat bg-center bg-contain float-left mr-2 cursor-pointer\" name=\"typeShow\" value=\"3\"/><label class=\"form-check-label inline-block text-sky-500\" for=\"inlineRadio20\">Link</label></div><div class=\"form-check form-check-inline\"><input type=\"radio\" class=\"form-check-input form-check-input appearance-none rounded-full h-4 w-4 border border-gray-300 bg-white checked:bg-blue-600 checked:border-blue-600 focus:outline-none transition duration-200 mt-1 align-top bg-no-repeat bg-center bg-contain float-left mr-2 cursor-pointer\" name=\"typeShow\" value=\"4\"/><label class=\"form-check-label inline-block text-sky-500\" for=\"inlineRadio20\">Tên File<!-- -->|<!-- -->Link</label></div></div><div class=\"lg:flex gap-x-2 mb-2\"><div><label class=\"my-auto\">Định dạng phân cách: </label><input type=\"text\" value=\"|\" class=\"w-20 shadow appearance-none border border-gray-400 rounded py-1 px-3 bg-gray-100 dark:bg-slate-700 text-gray-700 dark:text-gray-200 leading-tight focus:outline-none focus:shadow-outline\" id=\"username\" placeholder=\"Định dạng phân cách\"/></div><div><label class=\"my-auto\">Định dạng đầu: </label><input type=\"text\" value=\"\" class=\"w-20 shadow appearance-none border border-gray-400 rounded py-1 px-3 bg-gray-100 dark:bg-slate-700 text-gray-700 dark:text-gray-200 leading-tight focus:outline-none focus:shadow-outline\" id=\"username\" placeholder=\"VD: [\"/></div><div><label class=\"my-auto\">Định dạng cuối: </label><input type=\"text\" value=\"\" class=\"w-20 shadow appearance-none border border-gray-400 rounded py-1 px-3 bg-gray-100 dark:bg-slate-700 text-gray-700 dark:text-gray-200 leading-tight focus:outline-none focus:shadow-outline\" id=\"username\" placeholder=\"VD: ]\"/></div></div><div class=\"lg:flex gap-x-2 mb-2\"><label class=\"\">Sắp xếp: </label><svg xmlns=\"http://www.w3.org/2000/svg\" viewBox=\"0 0 20 20\" fill=\"currentColor\" aria-hidden=\"true\" class=\"text-sky-500 hover:text-violet-500 cursor-pointer w-6 h-6\"><path d=\"M3 3a1 1 0 000 2h11a1 1 0 100-2H3zM3 7a1 1 0 000 2h7a1 1 0 100-2H3zM3 11a1 1 0 100 2h4a1 1 0 100-2H3zM15 8a1 1 0 10-2 0v5.586l-1.293-1.293a1 1 0 00-1.414 1.414l3 3a1 1 0 001.414 0l3-3a1 1 0 00-1.414-1.414L15 13.586V8z\"></path></svg></div></div></div></div><div class=\"mt-4\"><button class=\"flex justify-between w-full px-4 py-2 text-sm font-medium text-left text-sky-900 bg-sky-300 dark:text-sky-400 dark:bg-sky-900 rounded-lg hover:bg-sky-200 focus:outline-none focus-visible:ring focus-visible:ring-sky-500 focus-visible:ring-opacity-75\" id=\"headlessui-disclosure-button-undefined\" type=\"button\" aria-expanded=\"true\"><span>Nguồn Embed</span><svg xmlns=\"http://www.w3.org/2000/svg\" viewBox=\"0 0 20 20\" fill=\"currentColor\" aria-hidden=\"true\" class=\"transform rotate-180 w-5 h-5 text-sky-500\"><path fill-rule=\"evenodd\" d=\"M14.707 12.707a1 1 0 01-1.414 0L10 9.414l-3.293 3.293a1 1 0 01-1.414-1.414l4-4a1 1 0 011.414 0l4 4a1 1 0 010 1.414z\" clip-rule=\"evenodd\"></path></svg></button><div class=\"relative px-4 pt-4 pb-2 text-sm text-gray-500 dark:text-gray-200\" id=\"headlessui-disclosure-panel-undefined\"><div class=\"w-full max-w-3xl px-2 sm:px-0\"><button type=\"button\" aria-hidden=\"true\" style=\"position:absolute;width:1px;height:1px;padding:0;margin:-1px;overflow:hidden;clip:rect(0, 0, 0, 0);white-space:nowrap;border-width:0\"></button><div class=\"flex p-1 space-x-1 bg-blue-900/20 rounded-xl\" role=\"tablist\" aria-orientation=\"horizontal\"><button class=\"p-2 text-sm leading-5 font-medium text-blue-700 dark:text-blue-500 rounded-lg bg-white dark:bg-slate-900 shadow\" id=\"headlessui-tabs-tab-undefined\" role=\"tab\" type=\"button\" aria-selected=\"true\" tabindex=\"0\">Thuyết Minh #1</button></div><div class=\"pt-2\"><div id=\"headlessui-tabs-panel-undefined\" role=\"tabpanel\" tabindex=\"0\"><textarea class=\"form-control block w-full px-3 py-1.5 text-sm font-normal bg-white dark:bg-slate-900 bg-clip-padding border border-solid border-slate-700 rounded transition ease-in-out m-0 focus:border-blue-600 focus:outline-none\" rows=\"10\" readonly=\"\">11|https://vip.opstream16.com/share/307527f309aa633edcc5f228a5533f25\n",
      "10|https://vip.opstream16.com/share/c6a8488de86eddf87c84edf4136a1126\n",
      "9|https://vip.opstream16.com/share/f9e2270a84c5a14c77836f5ed85d24a8\n",
      "8|https://vip.opstream16.com/share/a9136794e5b084c915b1470232654802\n",
      "7|https://vip.opstream16.com/share/f60a0773c48f1312c792c95a86d459e7\n",
      "6|https://vip.opstream16.com/share/3102051b5f75731d90b707b4ce0fd4a8\n",
      "5|https://vip.opstream16.com/share/80584c1c68648ca0af9f7024c85307b5\n",
      "4|https://vip.opstream16.com/share/d47da82feac4fce587b7b03ab2ee7f03\n",
      "3|https://vip.opstream16.com/share/0c49f3516fb1717dc7ad8d2ae2200a94\n",
      "2|https://vip.opstream16.com/share/c5475a756076c9675123cee9448923f5\n",
      "1|https://vip.opstream16.com/share/dd05f857aff427aad73e4c634b1cf060</textarea></div></div></div></div></div><div class=\"mt-4\"><button class=\"flex justify-between w-full px-4 py-2 text-sm font-medium text-left text-sky-900 bg-sky-300 dark:text-sky-400 dark:bg-sky-900 rounded-lg hover:bg-sky-200\" id=\"headlessui-disclosure-button-undefined\" type=\"button\" aria-expanded=\"true\"><span>Nguồn M3U8</span><svg xmlns=\"http://www.w3.org/2000/svg\" viewBox=\"0 0 20 20\" fill=\"currentColor\" aria-hidden=\"true\" class=\"transform rotate-180 w-5 h-5 text-sky-500\"><path fill-rule=\"evenodd\" d=\"M14.707 12.707a1 1 0 01-1.414 0L10 9.414l-3.293 3.293a1 1 0 01-1.414-1.414l4-4a1 1 0 011.414 0l4 4a1 1 0 010 1.414z\" clip-rule=\"evenodd\"></path></svg></button><div class=\"px-4 pt-4 pb-2 text-sm text-gray-500 dark:text-gray-200\" id=\"headlessui-disclosure-panel-undefined\"><div class=\"w-full max-w-3xl px-2 sm:px-0\"><button type=\"button\" aria-hidden=\"true\" style=\"position:absolute;width:1px;height:1px;padding:0;margin:-1px;overflow:hidden;clip:rect(0, 0, 0, 0);white-space:nowrap;border-width:0\"></button><div class=\"flex p-1 space-x-1 bg-blue-900/20 rounded-xl\" role=\"tablist\" aria-orientation=\"horizontal\"><button class=\"p-2 text-sm leading-5 font-medium text-blue-700 dark:text-blue-500 rounded-lg bg-white dark:bg-slate-900 shadow\" id=\"headlessui-tabs-tab-undefined\" role=\"tab\" type=\"button\" aria-selected=\"true\" tabindex=\"0\">Thuyết Minh #1</button></div><div class=\"pt-2\"><div id=\"headlessui-tabs-panel-undefined\" role=\"tabpanel\" tabindex=\"0\"><textarea class=\"form-control block w-full px-3 py-1.5 text-sm font-normal bg-white dark:bg-slate-900 bg-clip-padding border border-solid border-slate-700 rounded transition ease-in-out m-0 focus:border-blue-600 focus:outline-none\" rows=\"10\" readonly=\"\">11|https://vip.opstream16.com/20250519/43001_307527f3/index.m3u8\n",
      "10|https://vip.opstream16.com/20250519/43000_c6a8488d/index.m3u8\n",
      "9|https://vip.opstream16.com/20250519/42999_f9e2270a/index.m3u8\n",
      "8|https://vip.opstream16.com/20250519/42998_a9136794/index.m3u8\n",
      "7|https://vip.opstream16.com/20250519/42997_f60a0773/index.m3u8\n",
      "6|https://vip.opstream16.com/20250519/42996_3102051b/index.m3u8\n",
      "5|https://vip.opstream16.com/20250519/42995_80584c1c/index.m3u8\n",
      "4|https://vip.opstream16.com/20250519/42994_d47da82f/index.m3u8\n",
      "3|https://vip.opstream16.com/20250519/42993_0c49f351/index.m3u8\n",
      "2|https://vip.opstream16.com/20250519/42992_c5475a75/index.m3u8\n",
      "1|https://vip.opstream16.com/20250519/42991_dd05f857/index.m3u8</textarea></div></div></div></div></div></div></div></div></div></div></div><footer class=\"text-sm leading-6 mt-16 p-2 xl:p-0\"><div class=\"container mx-auto pt-2 pb-28 border-t border-slate-200 text-slate-500 dark:border-slate-200/5\"><p class=\"block\">Tất cả nội dung của trang web này được thu thập từ các trang web video chính thống trên Internet, và không cung cấp phát trực tuyến chính hãng. Nếu quyền lợi của bạn bị vi phạm, vui lòng thông báo cho chúng tôi, chúng tôi sẽ xóa nội dung vi phạm kịp thời, cảm ơn sự hợp tác của bạn!</p><div class=\"sm:flex justify-between pt-2\"><div class=\"mb-6 sm:mb-0 sm:flex\"><p>Copyright © 2022 OPhim.TV</p><p class=\"sm:ml-4 sm:pl-4 sm:border-l sm:border-slate-200 dark:sm:border-slate-200/5\"><a class=\"hover:text-slate-900 dark:hover:text-slate-400\" href=\"/gioi-thieu\">Giới Thiệu</a></p><p class=\"sm:ml-4 sm:pl-4 sm:border-l sm:border-slate-200 dark:sm:border-slate-200/5\"><a class=\"hover:text-slate-900 dark:hover:text-slate-400\" href=\"/khieu-nai-ban-quyen\">Khiếu nại bản quyền</a></p><p class=\"sm:ml-4 sm:pl-4 sm:border-l sm:border-slate-200 dark:sm:border-slate-200/5\"><a class=\"hover:text-slate-900 dark:hover:text-slate-400\" title=\"Dành cho nhà phát triển\" href=\"/api-document\">API</a></p></div><div class=\"flex space-x-6 text-slate-400 dark:text-slate-500\"></div></div></div></footer></div><script id=\"__NEXT_DATA__\" type=\"application/json\">{\"props\":{\"pageProps\":{\"data\":{\"seoOnPage\":{\"og_type\":\"video.movie\",\"titleHead\":\"Tố Chất Anh Hùng (Phần 1)-Hero Inside (Season 1) (2023) [HD-Thuyết Minh]\",\"seoSchema\":{\"@context\":\"https://schema.org\",\"@type\":\"Movie\",\"name\":\"Tố Chất Anh Hùng (Phần 1)-Hero Inside (Season 1) (2023) [HD-Thuyết Minh]\",\"dateModified\":\"2025-05-19T16:31:21.000Z\",\"dateCreated\":\"2025-05-19T16:31:21.000Z\",\"url\":\"https://ophim17.cc/phim/to-chat-anh-hung-phan-1\",\"datePublished\":\"2025-05-19T16:31:21.000Z\",\"image\":\"https://img.ophim.live/uploads/movies/to-chat-anh-hung-phan-1-thumb.jpg\",\"director\":\"Koh Tae-wook\"},\"descriptionHead\":\"Các anh hùng có thể bước ra khỏi truyện tranh khi được triệu hồi trong trò chơi hành động phiêu lưu hài hước...\",\"og_image\":[\"movies/to-chat-anh-hung-phan-1-thumb.jpg\",\"movies/to-chat-anh-hung-phan-1-thumb.jpg\"],\"updated_time\":1747672281000,\"og_url\":\"phim/to-chat-anh-hung-phan-1\"},\"breadCrumb\":[{\"name\":\"Hoạt Hình\",\"slug\":\"/danh-sach/hoat-hinh\",\"position\":2},{\"name\":\"Trung Quốc\",\"slug\":\"/quoc-gia/trung-quoc\",\"position\":3},{\"name\":\"Hàn Quốc\",\"slug\":\"/quoc-gia/han-quoc\",\"position\":3},{\"name\":\"Thái Lan\",\"slug\":\"/quoc-gia/thai-lan\",\"position\":3},{\"name\":\"Hành Động\",\"slug\":\"/the-loai/hanh-dong\",\"position\":3},{\"name\":\"Hài Hước\",\"slug\":\"/the-loai/hai-huoc\",\"position\":3},{\"name\":\"Phiêu Lưu\",\"slug\":\"/the-loai/phieu-luu\",\"position\":3},{\"name\":\"Tố Chất Anh Hùng (Phần 1)\",\"isCurrent\":true,\"position\":4}],\"params\":{\"slug\":\"to-chat-anh-hung-phan-1\"},\"item\":{\"tmdb\":{\"type\":\"tv\",\"id\":\"238841\",\"season\":1,\"vote_average\":8.278,\"vote_count\":27},\"imdb\":{\"id\":\"tt24165980\"},\"created\":{\"time\":\"2025-05-19T16:31:21.000Z\"},\"modified\":{\"time\":\"2025-05-19T16:31:21.000Z\"},\"_id\":\"682afa6960de42bffde8a966\",\"name\":\"Tố Chất Anh Hùng (Phần 1)\",\"slug\":\"to-chat-anh-hung-phan-1\",\"origin_name\":\"Hero Inside (Season 1)\",\"content\":\"\\u003cp\\u003eCác anh hùng có thể bước ra khỏi truyện tranh khi được triệu hồi trong trò chơi hành động phiêu lưu hài hước này.\\u003c/p\\u003e\",\"type\":\"hoathinh\",\"status\":\"completed\",\"thumb_url\":\"to-chat-anh-hung-phan-1-thumb.jpg\",\"poster_url\":\"to-chat-anh-hung-phan-1-poster.jpg\",\"is_copyright\":false,\"sub_docquyen\":false,\"chieurap\":false,\"trailer_url\":\"\",\"time\":\"15 phút/tập\",\"episode_current\":\"Hoàn Tất (11/11)\",\"episode_total\":\"11 Tập\",\"quality\":\"HD\",\"lang\":\"Thuyết Minh\",\"notify\":\"\",\"showtimes\":\"\",\"year\":2023,\"view\":0,\"actor\":[\"Marc Thompson\",\"James Brown Jr.\",\"Barrett Leddy\",\"Samantha Cooper\",\"Valory Pierce\",\"Dinesh Alvis\",\"Brent Mukai\",\"Jamie Craib\",\"Jason Griffith\",\"Lucas Schuneman\"],\"director\":[\"Koh Tae-wook\",\"Kim Jae Hyung\"],\"category\":[{\"id\":\"620a21b2e0fc277084dfd0c5\",\"name\":\"Hành Động\",\"slug\":\"hanh-dong\"},{\"id\":\"620a221de0fc277084dfd1c1\",\"name\":\"Hài Hước\",\"slug\":\"hai-huoc\"},{\"id\":\"620a2293e0fc277084dfd489\",\"name\":\"Phiêu Lưu\",\"slug\":\"phieu-luu\"}],\"country\":[{\"id\":\"62093063196e9f4ab6b448b8\",\"name\":\"Trung Quốc\",\"slug\":\"trung-quoc\"},{\"id\":\"620a2300e0fc277084dfd6d2\",\"name\":\"Hàn Quốc\",\"slug\":\"han-quoc\"},{\"id\":\"620a2318e0fc277084dfd77a\",\"name\":\"Thái Lan\",\"slug\":\"thai-lan\"}],\"episodes\":[{\"server_name\":\"Thuyết Minh #1\",\"server_data\":[{\"name\":\"1\",\"slug\":\"1\",\"filename\":\"Tố Chất Anh Hùng - Mùa 1 - Tập 1\",\"link_embed\":\"https://vip.opstream16.com/share/dd05f857aff427aad73e4c634b1cf060\",\"link_m3u8\":\"https://vip.opstream16.com/20250519/42991_dd05f857/index.m3u8\"},{\"name\":\"2\",\"slug\":\"2\",\"filename\":\"Tố Chất Anh Hùng - Mùa 1 - Tập 2\",\"link_embed\":\"https://vip.opstream16.com/share/c5475a756076c9675123cee9448923f5\",\"link_m3u8\":\"https://vip.opstream16.com/20250519/42992_c5475a75/index.m3u8\"},{\"name\":\"3\",\"slug\":\"3\",\"filename\":\"Tố Chất Anh Hùng - Mùa 1 - Tập 3\",\"link_embed\":\"https://vip.opstream16.com/share/0c49f3516fb1717dc7ad8d2ae2200a94\",\"link_m3u8\":\"https://vip.opstream16.com/20250519/42993_0c49f351/index.m3u8\"},{\"name\":\"4\",\"slug\":\"4\",\"filename\":\"Tố Chất Anh Hùng - Mùa 1 - Tập 4\",\"link_embed\":\"https://vip.opstream16.com/share/d47da82feac4fce587b7b03ab2ee7f03\",\"link_m3u8\":\"https://vip.opstream16.com/20250519/42994_d47da82f/index.m3u8\"},{\"name\":\"5\",\"slug\":\"5\",\"filename\":\"Tố Chất Anh Hùng - Mùa 1 - Tập 5\",\"link_embed\":\"https://vip.opstream16.com/share/80584c1c68648ca0af9f7024c85307b5\",\"link_m3u8\":\"https://vip.opstream16.com/20250519/42995_80584c1c/index.m3u8\"},{\"name\":\"6\",\"slug\":\"6\",\"filename\":\"Tố Chất Anh Hùng - Mùa 1 - Tập 6\",\"link_embed\":\"https://vip.opstream16.com/share/3102051b5f75731d90b707b4ce0fd4a8\",\"link_m3u8\":\"https://vip.opstream16.com/20250519/42996_3102051b/index.m3u8\"},{\"name\":\"7\",\"slug\":\"7\",\"filename\":\"Tố Chất Anh Hùng - Mùa 1 - Tập 7\",\"link_embed\":\"https://vip.opstream16.com/share/f60a0773c48f1312c792c95a86d459e7\",\"link_m3u8\":\"https://vip.opstream16.com/20250519/42997_f60a0773/index.m3u8\"},{\"name\":\"8\",\"slug\":\"8\",\"filename\":\"Tố Chất Anh Hùng - Mùa 1 - Tập 8\",\"link_embed\":\"https://vip.opstream16.com/share/a9136794e5b084c915b1470232654802\",\"link_m3u8\":\"https://vip.opstream16.com/20250519/42998_a9136794/index.m3u8\"},{\"name\":\"9\",\"slug\":\"9\",\"filename\":\"Tố Chất Anh Hùng - Mùa 1 - Tập 9\",\"link_embed\":\"https://vip.opstream16.com/share/f9e2270a84c5a14c77836f5ed85d24a8\",\"link_m3u8\":\"https://vip.opstream16.com/20250519/42999_f9e2270a/index.m3u8\"},{\"name\":\"10\",\"slug\":\"10\",\"filename\":\"Tố Chất Anh Hùng - Mùa 1 - Tập 10\",\"link_embed\":\"https://vip.opstream16.com/share/c6a8488de86eddf87c84edf4136a1126\",\"link_m3u8\":\"https://vip.opstream16.com/20250519/43000_c6a8488d/index.m3u8\"},{\"name\":\"11\",\"slug\":\"11\",\"filename\":\"Tố Chất Anh Hùng - Mùa 1 - Tập 11\",\"link_embed\":\"https://vip.opstream16.com/share/307527f309aa633edcc5f228a5533f25\",\"link_m3u8\":\"https://vip.opstream16.com/20250519/43001_307527f3/index.m3u8\"}]}]}}},\"__N_SSP\":true},\"page\":\"/phim/[slug]\",\"query\":{\"slug\":\"to-chat-anh-hung-phan-1\"},\"buildId\":\"YjU3ELa3ICaBELMtMHUHj\",\"isFallback\":false,\"gssp\":true,\"scriptLoader\":[]}</script></body><script>var _hmt = _hmt || [];\n",
      "            (function() {\n",
      "              var hm = document.createElement(\"script\");\n",
      "              hm.src = \"https://hm.baidu.com/hm.js?897d214a44ba6264c573fb99dd199636\";\n",
      "              var s = document.getElementsByTagName(\"script\")[0]; \n",
      "              s.parentNode.insertBefore(hm, s);\n",
      "            })();</script><script async=\"\" src=\"https://www.googletagmanager.com/gtag/js?id=G-09ECCB0VBM\"></script><script>\n",
      "                window.dataLayer = window.dataLayer || [];\n",
      "                function gtag(){dataLayer.push(arguments);}\n",
      "                gtag('js', new Date());\n",
      "                gtag('config', 'G-09ECCB0VBM', {\n",
      "                  page_path: window.location.pathname,\n",
      "                });\n",
      "              </script></html>\n"
     ]
    }
   ],
   "source": [
    "ophim_response = requests.get('https://ophim17.cc/phim/to-chat-anh-hung-phan-1')\n",
    "print(ophim_response.text)"
   ]
  },
  {
   "cell_type": "markdown",
   "id": "130b164a",
   "metadata": {},
   "source": [
    "# Lấy dữ liệu API Ophim trả về"
   ]
  },
  {
   "cell_type": "code",
   "execution_count": 6,
   "id": "acb8d268",
   "metadata": {},
   "outputs": [
    {
     "name": "stdout",
     "output_type": "stream",
     "text": [
      "True\n",
      "Vietsub #1\n"
     ]
    }
   ],
   "source": [
    "# https://w3schools.com/python/demopage.htm\n",
    "# https://ophim1.com/phim/quai-thu-dai-nao-so-thu\n",
    "\n",
    "ophim_data = json.loads(ophim_response.text)\n",
    "print(ophim_data[\"status\"])\n",
    "print(ophim_data[\"episodes\"][0][\"server_name\"])"
   ]
  },
  {
   "cell_type": "markdown",
   "id": "cb6798a8",
   "metadata": {},
   "source": [
    "# Lấy link m3u8 lưu vô biến `movie_index_link`"
   ]
  },
  {
   "cell_type": "code",
   "execution_count": 17,
   "id": "53dc5d22",
   "metadata": {},
   "outputs": [
    {
     "name": "stdout",
     "output_type": "stream",
     "text": [
      "https://vip.opstream90.com/20250507/5259_f968fdc8/index.m3u8\n"
     ]
    }
   ],
   "source": [
    "movie_index_link = ophim_data[\"episodes\"][0][\"server_data\"][0][\"link_m3u8\"]\n",
    "print(movie_index_link)"
   ]
  },
  {
   "cell_type": "markdown",
   "id": "0375d60e",
   "metadata": {},
   "source": [
    "# Gọi link m3u8\n",
    "\n",
    "lưu dữ liệu trả về vào biến `movie_index_response`"
   ]
  },
  {
   "cell_type": "code",
   "execution_count": 18,
   "id": "0bc19c1a",
   "metadata": {},
   "outputs": [
    {
     "name": "stdout",
     "output_type": "stream",
     "text": [
      "#EXTM3U\n",
      "#EXT-X-STREAM-INF:PROGRAM-ID=1,BANDWIDTH=800000,RESOLUTION=1920x1040\n",
      "3000k/hls/mixed.m3u8\n"
     ]
    }
   ],
   "source": [
    "movie_index_reponse = requests.get(movie_index_link)\n",
    "print(movie_index_reponse.text)"
   ]
  },
  {
   "cell_type": "markdown",
   "id": "45b3cac2",
   "metadata": {},
   "source": [
    "# Tìm hiểu vài link m3u8 \n",
    "\n",
    "xem mặc định nội dung của nó có gì đặc biệt???\n",
    "\n",
    "https://ophim1.com/phim/tru-ta-ky-khoi-nguyen-hac-am\n",
    "\n",
    "https://ophim1.com/phim/beast-boy-lone-wolf\n",
    "\n",
    "https://ophim1.com/phim/nhoc-trum-tap-phim-giang-sinh-dac-biet"
   ]
  },
  {
   "cell_type": "markdown",
   "id": "15a1109d",
   "metadata": {},
   "source": [
    "# Mixed m3u8 link\n",
    "\n",
    "thế nào là 1 URL\n",
    "\n",
    "http\n",
    "\n",
    "https\n",
    "\n",
    "https://ten.com/path\n",
    "\n",
    "https://vip.opstream90.com/20250507/5259_f968fdc8/index.m3u8\n",
    "\n",
    "https://vip.opstream90.com/20250507/5259_f968fdc8/3000k/hls/mixed.m3u8"
   ]
  },
  {
   "cell_type": "markdown",
   "id": "0480cfb7",
   "metadata": {},
   "source": [
    "# VLC\n",
    "\n",
    "https://www.videolan.org/vlc/"
   ]
  },
  {
   "cell_type": "markdown",
   "id": "5c9f2ac4",
   "metadata": {},
   "source": [
    "# Segment download"
   ]
  },
  {
   "cell_type": "markdown",
   "id": "0023b024",
   "metadata": {},
   "source": [
    "# Remove segment ads"
   ]
  },
  {
   "cell_type": "markdown",
   "id": "7939f8cf",
   "metadata": {},
   "source": [
    "# Yt-dlp\n",
    "\n",
    "https://github.com/yt-dlp/yt-dlp"
   ]
  }
 ],
 "metadata": {
  "kernelspec": {
   "display_name": "Python 3",
   "language": "python",
   "name": "python3"
  },
  "language_info": {
   "codemirror_mode": {
    "name": "ipython",
    "version": 3
   },
   "file_extension": ".py",
   "mimetype": "text/x-python",
   "name": "python",
   "nbconvert_exporter": "python",
   "pygments_lexer": "ipython3",
   "version": "3.12.3"
  }
 },
 "nbformat": 4,
 "nbformat_minor": 5
}
